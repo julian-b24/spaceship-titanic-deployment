{
 "cells": [
  {
   "cell_type": "markdown",
   "metadata": {},
   "source": [
    "Integrantes\n",
    "\n",
    "+ Nombre: Julian Bolaños, código: A00365019\n",
    "+ Nombre: Juan Pablo Sanín, código: A00296776"
   ]
  },
  {
   "cell_type": "markdown",
   "metadata": {},
   "source": [
    "# Revisar material\n",
    "\n",
    "Se presenta el material donde se explica el uso de Dash, Flask y Plotly para el desarrollo de aplicaciones web con Python"
   ]
  },
  {
   "cell_type": "code",
   "execution_count": 1,
   "metadata": {
    "scrolled": true
   },
   "outputs": [
    {
     "name": "stderr",
     "output_type": "stream",
     "text": [
      "C:\\ProgramData\\Anaconda3\\lib\\site-packages\\IPython\\core\\display.py:717: UserWarning: Consider using IPython.display.IFrame instead\n",
      "  warnings.warn(\"Consider using IPython.display.IFrame instead\")\n"
     ]
    },
    {
     "data": {
      "text/html": [
       "<iframe width=\"1536\" height=\"864\" src=\"https://www.youtube.com/embed/1A5zFVYPvVQ\" title=\"YouTube video player\" frameborder=\"0\" allow=\"accelerometer; autoplay; clipboard-write; encrypted-media; gyroscope; picture-in-picture\" allowfullscreen></iframe>"
      ],
      "text/plain": [
       "<IPython.core.display.HTML object>"
      ]
     },
     "execution_count": 1,
     "metadata": {},
     "output_type": "execute_result"
    }
   ],
   "source": [
    "from IPython.display import HTML\n",
    "\n",
    "HTML('<iframe width=\"1536\" height=\"864\" src=\"https://www.youtube.com/embed/1A5zFVYPvVQ\" title=\"YouTube video player\" frameborder=\"0\" allow=\"accelerometer; autoplay; clipboard-write; encrypted-media; gyroscope; picture-in-picture\" allowfullscreen></iframe>')\n"
   ]
  },
  {
   "cell_type": "markdown",
   "metadata": {},
   "source": [
    "# Actividades\n"
   ]
  },
  {
   "cell_type": "markdown",
   "metadata": {},
   "source": [
    "## Exploración"
   ]
  },
  {
   "cell_type": "markdown",
   "metadata": {},
   "source": [
    "1. Instale la libreria [Dash](#https://anaconda.org/conda-forge/dash)\n",
    "2. Ejecute el archivo app.py desde consola con Python, revise el código y adaptelo para que despliegue el siguiente resultado. \n",
    "    + Nota: revise la documentación de Dash y las etiquetas HTML\n",
    "    + Nota: hay tres nuevos elementos HTML\n",
    "    \n",
    "<img src=\"ret1.png\"/>"
   ]
  },
  {
   "cell_type": "markdown",
   "metadata": {},
   "source": [
    "3. Ejecute el archivo app4.py, identifique cada uno de los componentes y responda la siguiente pregunta\n",
    "+ ¿Cuantos elementos visuales (variables) del dataset ha cargado la figura 2?"
   ]
  },
  {
   "cell_type": "markdown",
   "metadata": {},
   "source": [
    "La figura 2 usa las siguientes variables del dataset:\n",
    "\n",
    "    -gdpPercap (Eje X)\n",
    "    -lifeExp (Eje Y)\n",
    "    -year (Slider)\n",
    "    -continent (colores)\n",
    "    -country (grupos)"
   ]
  },
  {
   "cell_type": "markdown",
   "metadata": {
    "heading_collapsed": true
   },
   "source": [
    "## Spaceship"
   ]
  },
  {
   "cell_type": "markdown",
   "metadata": {
    "hidden": true
   },
   "source": [
    "4. Proponga un modelo para el reto en Kaggle [Spaceship Titanic](https://www.kaggle.com/competitions/spaceship-titanic), tenga presente que el contexto y los datos son distintos\n",
    "\n",
    "*Desarrolle una aplicación web con Flask, Dash y plotly teniendo como base los siguientes requerimientos:*\n",
    "\n",
    "5. El sistema debe contar con los elementos de visualización web que se presentan en las siguientes capturas de pantalla\n",
    "6. El sistema debe presentar la tabla de datos\n",
    "7. El sistema debe presentar la visualización de barras\n",
    "8. El sistema debe presentar el resultado del modelo a partir de las entradas del usuario"
   ]
  },
  {
   "cell_type": "markdown",
   "metadata": {
    "hidden": true
   },
   "source": [
    "<img src=\"space1.png\"/>"
   ]
  },
  {
   "cell_type": "markdown",
   "metadata": {
    "hidden": true
   },
   "source": [
    "<img src=\"space2.png\"/>"
   ]
  },
  {
   "cell_type": "markdown",
   "metadata": {
    "hidden": true
   },
   "source": [
    "<img src=\"space3.png\"/>"
   ]
  },
  {
   "cell_type": "markdown",
   "metadata": {},
   "source": [
    "# Entregables\n",
    "\n",
    "+ Un entregable es el presente notebook\n",
    "    + Con los nombres de los integrantes.\n",
    "    + Con el proceso del desarrollo del modelo para el reto de datos\n",
    "    + Con la respuesta a las preguntas\n",
    "+ Un archivo python (.py) para la aplicación web del ejercicio 2\n",
    "+ Un archivo python (.py) para la aplicación web de Spaceship Titanic"
   ]
  },
  {
   "cell_type": "markdown",
   "metadata": {},
   "source": [
    "# Referencias"
   ]
  },
  {
   "cell_type": "markdown",
   "metadata": {},
   "source": [
    "+ https://github.com/plotly/dash\n",
    "+ https://scikit-learn.org/stable/modules/model_persistence.html"
   ]
  }
 ],
 "metadata": {
  "kernelspec": {
   "display_name": "Python 3",
   "language": "python",
   "name": "python3"
  },
  "language_info": {
   "codemirror_mode": {
    "name": "ipython",
    "version": 3
   },
   "file_extension": ".py",
   "mimetype": "text/x-python",
   "name": "python",
   "nbconvert_exporter": "python",
   "pygments_lexer": "ipython3",
   "version": "3.8.3"
  },
  "toc": {
   "base_numbering": 1,
   "nav_menu": {},
   "number_sections": false,
   "sideBar": true,
   "skip_h1_title": false,
   "title_cell": "Table of Contents",
   "title_sidebar": "Contents",
   "toc_cell": false,
   "toc_position": {},
   "toc_section_display": true,
   "toc_window_display": false
  },
  "varInspector": {
   "cols": {
    "lenName": 16,
    "lenType": 16,
    "lenVar": 40
   },
   "kernels_config": {
    "python": {
     "delete_cmd_postfix": "",
     "delete_cmd_prefix": "del ",
     "library": "var_list.py",
     "varRefreshCmd": "print(var_dic_list())"
    },
    "r": {
     "delete_cmd_postfix": ") ",
     "delete_cmd_prefix": "rm(",
     "library": "var_list.r",
     "varRefreshCmd": "cat(var_dic_list()) "
    }
   },
   "types_to_exclude": [
    "module",
    "function",
    "builtin_function_or_method",
    "instance",
    "_Feature"
   ],
   "window_display": false
  }
 },
 "nbformat": 4,
 "nbformat_minor": 5
}
